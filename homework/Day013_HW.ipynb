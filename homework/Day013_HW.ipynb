{
 "cells": [
  {
   "cell_type": "markdown",
   "metadata": {},
   "source": [
    "# PTT 網路爬蟲實作練習\n",
    "\n",
    "\n",
    "* 能夠利用 Request + BeatifulSour 撰寫爬蟲，並存放到合適的資料結構\n"
   ]
  },
  {
   "cell_type": "markdown",
   "metadata": {},
   "source": [
    "## 作業目標\n",
    "\n",
    "根據範例 ，完成以下問題：\n",
    "\n",
    "* ① 印出最新文章的「作者」「標題」「時間」\n",
    "* ② 印出第一頁所有文章的「作者」「標題」「時間」\n"
   ]
  },
  {
   "cell_type": "markdown",
   "metadata": {},
   "source": [
    "### ① 印出最新文章的「作者」「標題」「時間」"
   ]
  },
  {
   "cell_type": "code",
   "execution_count": 105,
   "metadata": {},
   "outputs": [],
   "source": [
    "import requests\n",
    "from bs4 import BeautifulSoup\n"
   ]
  },
  {
   "cell_type": "code",
   "execution_count": 119,
   "metadata": {},
   "outputs": [
    {
     "name": "stdout",
     "output_type": "stream",
     "text": [
      "作者 :blue999\n",
      "標題 :[花邊]林書豪被看破手腳?中媒:CBA生存比NBA更難\n",
      "時間 :12/15\n"
     ]
    }
   ],
   "source": [
    "url='https://www.ptt.cc/bbs/NBA/index.html'\n",
    "r = requests.get(url)\n",
    "soup = BeautifulSoup(r.text, \"html5lib\")\n",
    "\n",
    "article=soup.find(class_='r-ent')\n",
    "title=article.find(class_='title').find('a').text\n",
    "author=article.find(class_='meta').find(class_='author').text\n",
    "date=article.find(class_='date').text\n",
    "print('作者 :'+author+'\\n標題 :'+ title +'\\n時間 :' + date)"
   ]
  },
  {
   "cell_type": "markdown",
   "metadata": {},
   "source": [
    "### ② 印出第一頁所有文章的「作者」「標題」「時間」"
   ]
  },
  {
   "cell_type": "code",
   "execution_count": 118,
   "metadata": {},
   "outputs": [
    {
     "name": "stdout",
     "output_type": "stream",
     "text": [
      "標題: [花邊]林書豪被看破手腳?中媒:CBA生存比NBA更難\n",
      "作者: blue999 (FLY)\n",
      "時間: Sun Dec 15 15:22:08 2019\n",
      "\n",
      "標題: [情報] WOJ：Doncic腳踝中度扭傷\n",
      "作者: kuluma (墨駒)\n",
      "時間: Sun Dec 15 16:08:37 2019\n",
      "\n",
      "標題: [討論] 077這個傷\n",
      "作者: wowoin (wowo)\n",
      "時間: Sun Dec 15 16:24:18 2019\n",
      "\n",
      "標題: [新聞] 厄齊爾控中國迫害維吾爾 兵工廠仿NBA火箭\n",
      "作者: go190214 (天空之島拉普達)\n",
      "時間: Sun Dec 15 16:25:39 2019\n",
      "\n",
      "標題: [花邊] 告別CBA返美訓練 史陶德邁爾仍有意再戰NBA\n",
      "作者: thnlkj0665 (灰色地帶)\n",
      "時間: Sun Dec 15 16:38:09 2019\n",
      "\n",
      "標題: [討論] 喬丹快閃為啥台灣人還這麼愛他\n",
      "作者: dog9527 (致命病毒)\n",
      "時間: Sun Dec 15 16:45:18 2019\n",
      "\n",
      "標題: Re: [情報] LeBron James進入30歲後數據表現\n",
      "作者: MrSatan (老大!!!!!!!!)\n",
      "時間: Sun Dec 15 17:57:29 2019\n",
      "\n",
      "標題: [討論] 林書豪算亞裔第一控嗎？\n",
      "作者: s27052705 (小飽)\n",
      "時間: Sun Dec 15 18:48:45 2019\n",
      "\n",
      "標題: Re: [情報] De'Aaron Fox左腳踝第三級扭傷\n",
      "作者: GodEyes (G.I.G)\n",
      "時間: Sun Dec 15 18:49:35 2019\n",
      "\n",
      "標題: Re: [新聞] 熱火昨輸球好冤 裁判3度漏吹都對湖人有利\n",
      "作者: dwyanes (無限期支持熱火墊底)\n",
      "時間: Sun Dec 15 19:02:11 2019\n",
      "\n",
      "標題: [新聞] 球員清晨5點才下榻飯店 瑞佛斯砲轟賽程安\n",
      "作者: bbbyes123 (冬日將至)\n",
      "時間: Sun Dec 15 20:37:34 2019\n",
      "\n",
      "標題: [情報] ★今日排名(2019.12.15)★\n",
      "標題: [情報] NBA Standings (Dec. 15, 2019)  \n",
      "作者: a78998042a (Benjimin)\n",
      "時間: Sun Dec 15 21:10:50 2019\n",
      "\n",
      "標題: [討論] 目前誰最有可能拿到最佳進步獎?\n",
      "作者: Ayanami5566 (綾波五六)\n",
      "時間: Sun Dec 15 22:08:59 2019\n",
      "\n",
      "標題: [花邊] 拓荒者官方IG-Nurkic練球畫面\n",
      "作者: LillardTime (Tell me what time it is)\n",
      "時間: Sun Dec 15 22:21:28 2019\n",
      "\n",
      "標題: [專欄] 公牛戰報：你不知道的事\n",
      "作者: AhUtopian (It's my Life)\n",
      "時間: Sun Dec 15 22:33:58 2019\n",
      "\n",
      "標題: [公告] 板規v6.6\n",
      "標題: [公告] 樂透取消及未來不再開啟樂透\n",
      "作者: Vedan (味丹)\n",
      "時間: Mon Jun 24 15:08:02 2019\n",
      "\n",
      "標題: [公告] 版主上任相關事項 \n",
      "作者: qazwsx879345 (Rajon Rondo)\n",
      "時間: Fri Oct 25 10:44:03 2019\n",
      "\n",
      "標題: [情報] SEASON Schedule 賽程 December 19–20\n",
      "作者: JerroLi (銀色小刀)\n",
      "時間: Fri Nov 29 00:46:01 2019\n",
      "\n",
      "標題: [公告]是否禁止basketball top 5文章投票開始 \n",
      "作者: dragon803 (好想去露營啊~)\n",
      "時間: Sun Dec  8 23:55:00 2019\n",
      "\n"
     ]
    }
   ],
   "source": [
    "for d in soup.find_all(class_=\"title\"):\n",
    "    print('標題:',d.text.replace('\\t', '').replace('\\n', ''))\n",
    "    try:\n",
    "        r = BeautifulSoup(requests.get('https://www.ptt.cc'+d.find('a')['href']).text, \"html5lib\")\n",
    "        values= r.find_all(class_='article-meta-value')\n",
    "        print('作者: '+values[0].text)\n",
    "        print('時間: '+values[3].text+'\\n')\n",
    "    except:\n",
    "        continue\n"
   ]
  },
  {
   "cell_type": "markdown",
   "metadata": {},
   "source": [
    "### ③ 試著爬爬看其他版的文章"
   ]
  },
  {
   "cell_type": "code",
   "execution_count": 120,
   "metadata": {},
   "outputs": [
    {
     "name": "stdout",
     "output_type": "stream",
     "text": [
      "標題: [高雄/一般] 世界健身俱樂部岡山店工讀生\n",
      "作者: makeabet888 (下好離手)\n",
      "時間: Sun Dec 15 14:29:43 2019\n",
      "\n",
      "標題: [台北/一般] 12/18-19信義區進撤場人員 \n",
      "作者: shiho08 (Gal)\n",
      "時間: Sun Dec 15 14:48:13 2019\n",
      "\n",
      "標題: [台北/一般] 店面商品整理、上架\n",
      "作者: fly23727 (╮(﹋﹏﹌)╭)\n",
      "時間: Sun Dec 15 15:45:55 2019\n",
      "\n",
      "標題: [台中/個人] 陪玩姊姊或阿姨(近東海）\n",
      "作者: swissis (夏天到了)\n",
      "時間: Sun Dec 15 16:16:44 2019\n",
      "\n",
      "標題: [新北/一般] 林口倉庫徵商品檢查臨時人力\n",
      "作者: paperman (paperman)\n",
      "時間: Sun Dec 15 17:16:07 2019\n",
      "\n",
      "標題: [台北/一般] 12/16幫忙搬東西，需爬樓梯\n",
      "作者: penny50630 ()\n",
      "時間: Sun Dec 15 17:40:46 2019\n",
      "\n",
      "標題: [基隆/一般] 徵基隆12/16特賣會撤櫃160/hr附餐 \n",
      "作者: YANBLACK (哇係喔郎，直搗黃龍拿下S)\n",
      "時間: Sun Dec 15 17:42:15 2019\n",
      "\n",
      "標題: [新北/一般] 包貨出貨行政160/h 現領+週領\n",
      "作者: zusowind (zusowind)\n",
      "時間: Sun Dec 15 17:51:21 2019\n",
      "\n",
      "標題: [多區/市調] 零食試吃線上填寫 車馬費1200元\n",
      "作者: Piscine (Pi)\n",
      "時間: Sun Dec 15 18:21:34 2019\n",
      "\n",
      "標題: [台北/一般]中研院近史所檔案館徵全職工讀生 \n",
      "作者: holmes (情有獨鍾)\n",
      "時間: Sun Dec 15 19:17:40 2019\n",
      "\n",
      "標題: [台北/個人] （已徵得）今晚小貨車/廂型車運衣櫃\n",
      "作者: crazylovewow (Wen)\n",
      "時間: Sun Dec 15 19:20:43 2019\n",
      "\n",
      "標題: [台北/市調] 男性機車問卷活動 車馬費1000元\n",
      "作者: Portmento (HEAR ME ROAR)\n",
      "時間: Sun Dec 15 20:20:26 2019\n",
      "\n",
      "標題: [台北/市調] 血壓計1對1訪問 車馬費$1500 \n",
      "作者: LightinTW (LightinTW)\n",
      "時間: Sun Dec 15 20:43:32 2019\n",
      "\n",
      "標題: [派遣] 1217-19建檔+1216週UQ理貨+1221-22活動\n",
      "作者: SJ2008 (狐猴)\n",
      "時間: Sun Dec 15 21:34:15 2019\n",
      "\n",
      "標題: [台北/個人] 徵求特賣會搶購小幫手\n",
      "作者: ACCR (優家包子~＊)\n",
      "時間: Sun Dec 15 21:43:44 2019\n",
      "\n",
      "標題: [新北/派遣] 12/18(三)中和環球購物內服飾門市 \n",
      "作者: manpower601 (萬寶華企業管理顧問(股))\n",
      "時間: Sun Dec 15 22:18:30 2019\n",
      "\n",
      "標題: [公告] 置底檢舉與申請刪文區 (大Q查詢文章代碼)\n",
      "作者: psl7634 (鍵盤補給官)\n",
      "時間: Sun Mar  5 15:52:52 2017\n",
      "\n",
      "標題: [公告] part-time 板規 (2019/01/01)\n",
      "作者: angel07 (Dark Moon Princess)\n",
      "時間: Wed Jul 18 15:07:06 2018\n",
      "\n",
      "標題: [公告] 常見違規事項與處理標準 (簡易版板規)\n",
      "作者: angel07 (Dark Moon Princess)\n",
      "時間: Mon Sep  3 21:37:28 2018\n",
      "\n",
      "標題: [公告] 專業或特殊類工作最低門檻討論\n",
      "作者: angel07 (Dark Moon Princess)\n",
      "時間: Mon Sep 24 11:39:33 2018\n",
      "\n",
      "標題: [公告] 2019 新春專案\n",
      "作者: angel07 (Dark Moon Princess)\n",
      "時間: Tue Jan  1 01:00:58 2019\n",
      "\n"
     ]
    }
   ],
   "source": [
    "url1='https://www.ptt.cc/bbs/part-time/index.html'\n",
    "r_other=requests.get(url1)\n",
    "soup_other=BeautifulSoup(r_other.text, 'html5lib')\n",
    "\n",
    "for d in soup_other.find_all(class_=\"title\"):\n",
    "    print('標題:',d.text.replace('\\t', '').replace('\\n', ''))\n",
    "    try:\n",
    "        r = BeautifulSoup(requests.get('https://www.ptt.cc'+d.find('a')['href']).text, \"html5lib\")\n",
    "        values= r.find_all(class_='article-meta-value')\n",
    "        print('作者: '+values[0].text)\n",
    "        print('時間: '+values[3].text+'\\n')\n",
    "    except:\n",
    "        continue\n"
   ]
  },
  {
   "cell_type": "code",
   "execution_count": null,
   "metadata": {},
   "outputs": [],
   "source": []
  }
 ],
 "metadata": {
  "kernelspec": {
   "display_name": "Python 3",
   "language": "python",
   "name": "python3"
  },
  "language_info": {
   "codemirror_mode": {
    "name": "ipython",
    "version": 3
   },
   "file_extension": ".py",
   "mimetype": "text/x-python",
   "name": "python",
   "nbconvert_exporter": "python",
   "pygments_lexer": "ipython3",
   "version": "3.7.4"
  }
 },
 "nbformat": 4,
 "nbformat_minor": 2
}
