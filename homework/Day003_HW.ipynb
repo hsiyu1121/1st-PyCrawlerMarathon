{
 "cells": [
  {
   "cell_type": "markdown",
   "metadata": {},
   "source": [
    "# Python 下載XML檔案與解析\n",
    "\n",
    "\n",
    "* 了解 xml 檔案格式與內容\n",
    "* 能夠利用套件存取 xml 格式的檔案\n"
   ]
  },
  {
   "cell_type": "markdown",
   "metadata": {},
   "source": [
    "## 作業目標\n",
    "\n",
    "* 比較一下範例檔案中的「File I/O」與「xmltodict」讀出來的內容有什麼差異\n",
    "\n",
    "* 根據範例檔案的結果：\n",
    "    1. 請問高雄市有多少地區有溫度資料？\n",
    "    2. 請取出每一個地區所記錄的第一個時間點跟溫度\n",
    "    3. 請取出第一個地區所記錄的每一個時間點跟溫度"
   ]
  },
  {
   "cell_type": "markdown",
   "metadata": {},
   "source": [
    "### 比較一下範例檔案中的「File I/O」與「xmltodict」讀出來的內容有什麼差異\n"
   ]
  },
  {
   "cell_type": "markdown",
   "metadata": {},
   "source": [
    "### 1. File I/O -- 將所有內容包含標籤都疫病顯示出來\n",
    "### 2. xmltodict -- 只將要顯示的內容打印出來"
   ]
  },
  {
   "cell_type": "markdown",
   "metadata": {},
   "source": [
    "### 根據範例檔案的結果：\n",
    "\n",
    "1. 請問高雄市有多少地區有溫度資料？\n",
    "2. 請取出每一個地區所記錄的第一個時間點跟溫度\n",
    "3. 請取出第一個地區所記錄的每一個時間點跟溫度"
   ]
  },
  {
   "cell_type": "code",
   "execution_count": 1,
   "metadata": {},
   "outputs": [
    {
     "name": "stdout",
     "output_type": "stream",
     "text": [
      "臺灣各縣市鄉鎮未來3天(72小時)逐3小時天氣預報\n"
     ]
    }
   ],
   "source": [
    "# 讀檔案\n",
    "fh = open(\"./data/64_72hr_CH.xml\", \"r\")\n",
    "xml = fh.read()\n",
    "fh.close()\n",
    "\n",
    "#print(xml)\n",
    "\n",
    "# 解析檔案內容\n",
    "import xmltodict\n",
    "       \n",
    "d = dict(xmltodict.parse(xml))\n",
    "\n",
    "# 取出 datasetDescription\n",
    "datasetDescription = d['cwbopendata']['dataset']['datasetInfo']['datasetDescription']\n",
    "print(datasetDescription)\n",
    "\n"
   ]
  },
  {
   "cell_type": "code",
   "execution_count": 13,
   "metadata": {},
   "outputs": [
    {
     "name": "stdout",
     "output_type": "stream",
     "text": [
      "鹽埕區\n",
      "鼓山區\n",
      "左營區\n",
      "楠梓區\n",
      "三民區\n",
      "新興區\n",
      "前金區\n",
      "苓雅區\n",
      "前鎮區\n",
      "旗津區\n",
      "小港區\n",
      "鳳山區\n",
      "林園區\n",
      "大寮區\n",
      "大樹區\n",
      "大社區\n",
      "仁武區\n",
      "鳥松區\n",
      "岡山區\n",
      "橋頭區\n",
      "燕巢區\n",
      "田寮區\n",
      "阿蓮區\n",
      "路竹區\n",
      "湖內區\n",
      "茄萣區\n",
      "永安區\n",
      "彌陀區\n",
      "梓官區\n",
      "旗山區\n",
      "美濃區\n",
      "六龜區\n",
      "甲仙區\n",
      "杉林區\n",
      "內門區\n",
      "茂林區\n",
      "桃源區\n",
      "那瑪夏區\n"
     ]
    }
   ],
   "source": [
    "# 1. 請問高雄市有多少地區有溫度資料？\n",
    "\n",
    "'''\n",
    "Your Code\n",
    "'''\n",
    "\n",
    "fh = open(\"./data/64_72hr_CH.xml\", \"r\")\n",
    "xml = fh.read()\n",
    "fh.close()\n",
    "\n",
    "#print(xml)\n",
    "\n",
    "# 解析檔案內容\n",
    "import xmltodict\n",
    "       \n",
    "d = dict(xmltodict.parse(xml))\n",
    "\n",
    "\n",
    "# 取出 datasetDescription\n",
    "datasetDescription = d['cwbopendata']['dataset']['locations']['location']\n",
    "#print(datasetDescription)\n",
    "i=0\n",
    "for local in datasetDescription:\n",
    "    i = i + 1\n",
    "    print(local['locationName'])"
   ]
  },
  {
   "cell_type": "code",
   "execution_count": 25,
   "metadata": {},
   "outputs": [
    {
     "name": "stdout",
     "output_type": "stream",
     "text": [
      " 鹽埕區 2019-11-27T12:00:00+08:00 28 \n",
      " 鼓山區 2019-11-27T12:00:00+08:00 28 \n",
      " 左營區 2019-11-27T12:00:00+08:00 27 \n",
      " 楠梓區 2019-11-27T12:00:00+08:00 28 \n",
      " 三民區 2019-11-27T12:00:00+08:00 27 \n",
      " 新興區 2019-11-27T12:00:00+08:00 28 \n",
      " 前金區 2019-11-27T12:00:00+08:00 28 \n",
      " 苓雅區 2019-11-27T12:00:00+08:00 28 \n",
      " 前鎮區 2019-11-27T12:00:00+08:00 28 \n",
      " 旗津區 2019-11-27T12:00:00+08:00 27 \n",
      " 小港區 2019-11-27T12:00:00+08:00 28 \n",
      " 鳳山區 2019-11-27T12:00:00+08:00 28 \n",
      " 林園區 2019-11-27T12:00:00+08:00 28 \n",
      " 大寮區 2019-11-27T12:00:00+08:00 29 \n",
      " 大樹區 2019-11-27T12:00:00+08:00 29 \n",
      " 大社區 2019-11-27T12:00:00+08:00 28 \n",
      " 仁武區 2019-11-27T12:00:00+08:00 28 \n",
      " 鳥松區 2019-11-27T12:00:00+08:00 28 \n",
      " 岡山區 2019-11-27T12:00:00+08:00 28 \n",
      " 橋頭區 2019-11-27T12:00:00+08:00 28 \n",
      " 燕巢區 2019-11-27T12:00:00+08:00 28 \n",
      " 田寮區 2019-11-27T12:00:00+08:00 28 \n",
      " 阿蓮區 2019-11-27T12:00:00+08:00 28 \n",
      " 路竹區 2019-11-27T12:00:00+08:00 28 \n",
      " 湖內區 2019-11-27T12:00:00+08:00 27 \n",
      " 茄萣區 2019-11-27T12:00:00+08:00 26 \n",
      " 永安區 2019-11-27T12:00:00+08:00 26 \n",
      " 彌陀區 2019-11-27T12:00:00+08:00 27 \n",
      " 梓官區 2019-11-27T12:00:00+08:00 27 \n",
      " 旗山區 2019-11-27T12:00:00+08:00 28 \n",
      " 美濃區 2019-11-27T12:00:00+08:00 29 \n",
      " 六龜區 2019-11-27T12:00:00+08:00 28 \n",
      " 甲仙區 2019-11-27T12:00:00+08:00 28 \n",
      " 杉林區 2019-11-27T12:00:00+08:00 31 \n",
      " 內門區 2019-11-27T12:00:00+08:00 29 \n",
      " 茂林區 2019-11-27T12:00:00+08:00 29 \n",
      " 桃源區 2019-11-27T12:00:00+08:00 27 \n",
      " 那瑪夏區 2019-11-27T12:00:00+08:00 25 \n"
     ]
    }
   ],
   "source": [
    "# 2. 請取出每一個地區所記錄的第一個時間點跟溫度\n",
    "\n",
    "'''\n",
    "Your Code\n",
    "'''\n",
    "\n",
    "fh = open(\"./data/64_72hr_CH.xml\", \"r\")\n",
    "xml = fh.read()\n",
    "fh.close()\n",
    "\n",
    "#print(xml)\n",
    "\n",
    "# 解析檔案內容\n",
    "import xmltodict\n",
    "       \n",
    "d = dict(xmltodict.parse(xml))\n",
    "\n",
    "\n",
    "# 取出 datasetDescription\n",
    "datasetDescription = d['cwbopendata']['dataset']['locations']['location']\n",
    "\n",
    "#print(datasetDescription)\n",
    "\n",
    "for i in datasetDescription:\n",
    "        for j in i['weatherElement'] :\n",
    "            if j['description'] == '溫度':\n",
    "                print(\" %s %s %s \"%(i['locationName'],\n",
    "                                    j['time'][0]['dataTime'],\n",
    "                                    j['time'][0]['elementValue']['value']))"
   ]
  },
  {
   "cell_type": "code",
   "execution_count": 32,
   "metadata": {},
   "outputs": [
    {
     "name": "stdout",
     "output_type": "stream",
     "text": [
      "2019-11-27T12:00:00+08:00 28\n",
      "2019-11-27T15:00:00+08:00 28\n",
      "2019-11-27T18:00:00+08:00 25\n",
      "2019-11-27T21:00:00+08:00 23\n",
      "2019-11-28T00:00:00+08:00 22\n",
      "2019-11-28T03:00:00+08:00 21\n",
      "2019-11-28T06:00:00+08:00 20\n",
      "2019-11-28T09:00:00+08:00 23\n",
      "2019-11-28T12:00:00+08:00 26\n",
      "2019-11-28T15:00:00+08:00 26\n",
      "2019-11-28T18:00:00+08:00 24\n",
      "2019-11-28T21:00:00+08:00 22\n",
      "2019-11-29T00:00:00+08:00 21\n",
      "2019-11-29T03:00:00+08:00 20\n",
      "2019-11-29T06:00:00+08:00 19\n",
      "2019-11-29T09:00:00+08:00 21\n",
      "2019-11-29T12:00:00+08:00 24\n",
      "2019-11-29T15:00:00+08:00 24\n",
      "2019-11-29T18:00:00+08:00 23\n",
      "2019-11-29T21:00:00+08:00 22\n",
      "2019-11-30T00:00:00+08:00 21\n",
      "2019-11-30T03:00:00+08:00 20\n",
      "2019-11-30T06:00:00+08:00 20\n",
      "2019-11-30T09:00:00+08:00 22\n"
     ]
    }
   ],
   "source": [
    "# 3. 請取出第一個地區所記錄的每一個時間點跟溫度\n",
    "\n",
    "'''\n",
    "Your Code\n",
    "'''\n",
    "import xmltodict\n",
    "       \n",
    "d = dict(xmltodict.parse(xml))\n",
    "\n",
    "\n",
    "# 取出 datasetDescription\n",
    "datasetDescription = d['cwbopendata']['dataset']['locations']['location']\n",
    "\n",
    "#print(datasetDescription)\n",
    "\n",
    "for i in datasetDescription:\n",
    "    for j in i['weatherElement'] :\n",
    "        if j['description'] == '溫度':\n",
    "            for z in j['time']:\n",
    "                print(z['dataTime'],z['elementValue']['value'])\n",
    "    break"
   ]
  },
  {
   "cell_type": "code",
   "execution_count": null,
   "metadata": {},
   "outputs": [],
   "source": []
  }
 ],
 "metadata": {
  "kernelspec": {
   "display_name": "Python 3",
   "language": "python",
   "name": "python3"
  },
  "language_info": {
   "codemirror_mode": {
    "name": "ipython",
    "version": 3
   },
   "file_extension": ".py",
   "mimetype": "text/x-python",
   "name": "python",
   "nbconvert_exporter": "python",
   "pygments_lexer": "ipython3",
   "version": "3.7.4"
  }
 },
 "nbformat": 4,
 "nbformat_minor": 2
}
