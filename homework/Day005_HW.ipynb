{
 "cells": [
  {
   "cell_type": "markdown",
   "metadata": {},
   "source": [
    "# API 資料串接 - 以 Dcard API 實作範例\n",
    "\n",
    "* 了解 Dcard API 使用方式與回傳內容\n",
    "* 撰寫程式存取 API 且解析 JSON 格式資料\n"
   ]
  },
  {
   "cell_type": "markdown",
   "metadata": {},
   "source": [
    "## 作業目標\n",
    "\n",
    "* 請利用 API: https://www.dcard.tw/_api/forums/pet/posts?popular=true 回答下列問題：\n",
    "\n",
    "1. 這個 API 一次會回傳幾筆資料？每一筆資料包含哪些欄位？\n",
    "2. 取出每一筆資料的「標題」、「貼文時間」、「留言人數」、「按讚人數」\n",
    "3. 計算熱門/非熱門文章的「平均留言人數」與「平均按讚人數」"
   ]
  },
  {
   "cell_type": "code",
   "execution_count": 8,
   "metadata": {},
   "outputs": [],
   "source": [
    "import requests\n",
    "import json\n",
    "\n",
    "r = requests.get('https://www.dcard.tw/_api/forums/pet/posts?popular=true')\n",
    "data = json.loads(r.text)"
   ]
  },
  {
   "cell_type": "code",
   "execution_count": 26,
   "metadata": {},
   "outputs": [
    {
     "name": "stdout",
     "output_type": "stream",
     "text": [
      "總共獲取 30 筆資料\n",
      "每筆資料的欄位: dict_keys(['id', 'title', 'excerpt', 'anonymousSchool', 'anonymousDepartment', 'pinned', 'forumId', 'replyId', 'createdAt', 'updatedAt', 'commentCount', 'likeCount', 'withNickname', 'tags', 'topics', 'meta', 'forumName', 'forumAlias', 'gender', 'school', 'replyTitle', 'mediaMeta', 'reactions', 'hidden', 'customStyle', 'isSuspiciousAccount', 'layout', 'withImages', 'withVideos', 'media', 'reportReasonText', 'postAvatar'])\n"
     ]
    }
   ],
   "source": [
    "# 1. 這個 API 一次會回傳幾筆資料？每一筆資料包含哪些欄位？\n",
    "\n",
    "print('總共獲取',len(data),'筆資料')\n",
    "print('每筆資料的欄位:', data[0].keys())"
   ]
  },
  {
   "cell_type": "code",
   "execution_count": 42,
   "metadata": {},
   "outputs": [
    {
     "name": "stdout",
     "output_type": "stream",
     "text": [
      "標題: 好像買太小了...,貼文時間: 2019-12-01T08:27:28.504Z, 留言人數:95,按讚人數: 9757\n",
      "標題: 貓咪沒在尊重男友,貼文時間: 2019-12-01T10:44:13.896Z, 留言人數:22,按讚人數: 752\n",
      "標題: 可以幫幫我推上熱門嗎急尋狗啟示,貼文時間: 2019-12-01T17:56:16.299Z, 留言人數:3,按讚人數: 310\n",
      "標題: 散步好夥伴🐶漆黑寒冷的夜晚也找得到便便💩,貼文時間: 2019-12-02T02:51:47.393Z, 留言人數:0,按讚人數: 301\n",
      "標題: #圖多 可愛喵喵們(⁎⁍̴̛ᴗ⁍̴̛⁎),貼文時間: 2019-12-01T08:44:25.791Z, 留言人數:3,按讚人數: 160\n",
      "標題: 餵養的浪貓得了乳腺瘤,貼文時間: 2019-12-02T05:29:49.540Z, 留言人數:4,按讚人數: 54\n",
      "標題: 有這麼不爽嗎(･ัω･ั),貼文時間: 2019-12-02T08:31:17.626Z, 留言人數:5,按讚人數: 43\n",
      "標題: #貓 擁有狗靈魂的貓,貼文時間: 2019-12-01T11:43:58.401Z, 留言人數:4,按讚人數: 42\n",
      "標題: 兔兔的睡姿⋯⋯,貼文時間: 2019-12-01T09:01:55.400Z, 留言人數:5,按讚人數: 41\n",
      "標題: 我養了三隻蟲？🐛,貼文時間: 2019-12-01T12:17:06.699Z, 留言人數:1,按讚人數: 32\n",
      "標題: 我到底養了什麼貓....（...微西斯）,貼文時間: 2019-12-02T11:45:50.709Z, 留言人數:5,按讚人數: 31\n",
      "標題: 我在日本養了一隻貓(圖多,貼文時間: 2019-12-02T02:38:35.799Z, 留言人數:1,按讚人數: 31\n",
      "標題: 寵物過世碰到的外套,貼文時間: 2019-12-01T09:23:54.879Z, 留言人數:3,按讚人數: 31\n",
      "標題: 來嘛~~來吸我啊~,貼文時間: 2019-12-01T11:56:53.031Z, 留言人數:7,按讚人數: 30\n",
      "標題: 我家的紅貴賓到底是不是人轉世？,貼文時間: 2019-12-01T06:13:52.856Z, 留言人數:5,按讚人數: 26\n",
      "標題: 我家的老阿公,貼文時間: 2019-12-02T06:22:36.958Z, 留言人數:2,按讚人數: 23\n",
      "標題: 送養,貼文時間: 2019-12-02T02:36:37.309Z, 留言人數:5,按讚人數: 23\n",
      "標題: 同學你的貓貓,貼文時間: 2019-12-02T12:11:28.555Z, 留言人數:8,按讚人數: 22\n",
      "標題: 基隆瑞芳深澳坑走失協找 拜託❗️❗️,貼文時間: 2019-12-01T12:22:04.478Z, 留言人數:2,按讚人數: 21\n",
      "標題: 是我太髒嗎?,貼文時間: 2019-12-02T09:16:23.658Z, 留言人數:3,按讚人數: 18\n",
      "標題: #急#刺蝟,貼文時間: 2019-12-02T05:06:34.886Z, 留言人數:8,按讚人數: 18\n",
      "標題: 你有看過這隻狗嗎？,貼文時間: 2019-12-01T20:33:16.869Z, 留言人數:2,按讚人數: 17\n",
      "標題: 中壢/米克斯狗女兒走失,貼文時間: 2019-12-01T10:58:09.738Z, 留言人數:0,按讚人數: 14\n",
      "標題: 吉娃娃才不吉敗咧,貼文時間: 2019-12-01T09:17:16.567Z, 留言人數:7,按讚人數: 14\n",
      "標題: 淘寶寵物用品開箱&心得📦🐱,貼文時間: 2019-12-01T06:19:59.473Z, 留言人數:9,按讚人數: 14\n",
      "標題: 我家曠世怨婦🐱,貼文時間: 2019-12-02T06:56:01.120Z, 留言人數:0,按讚人數: 13\n",
      "標題: 若要抱貓，必先成貓,貼文時間: 2019-12-02T05:44:06.710Z, 留言人數:0,按讚人數: 13\n",
      "標題: #圖 板橋貓咪走失（已找到）,貼文時間: 2019-12-02T03:50:17.266Z, 留言人數:3,按讚人數: 12\n",
      "標題: 她是真的不是假的🌚,貼文時間: 2019-12-01T16:18:44.132Z, 留言人數:0,按讚人數: 11\n",
      "標題: #協尋 玄鳳鸚鵡（已找到愛鳥 謝謝大家 謝謝好心人）,貼文時間: 2019-12-01T05:33:55.211Z, 留言人數:2,按讚人數: 11\n"
     ]
    }
   ],
   "source": [
    "# 2. 取出每一筆資料的「標題」、「貼文時間」、「留言人數」、「按讚人數」\n",
    "\n",
    "for d in data:\n",
    "    print(f\"標題: {d['title']},貼文時間: {d['createdAt']}, 留言人數:{d['commentCount']},按讚人數: {d['likeCount']}\")"
   ]
  },
  {
   "cell_type": "code",
   "execution_count": 48,
   "metadata": {},
   "outputs": [
    {
     "name": "stdout",
     "output_type": "stream",
     "text": [
      "熱門文章 平均留言人數: 7.133333333333334\n",
      "熱門文章 平均按讚人數: 396.1666666666667\n",
      "非熱門文章 平均留言人數: 2.6666666666666665\n",
      "非熱門文章 平均按讚人數: 6.366666666666666\n"
     ]
    }
   ],
   "source": [
    "# 3. 計算熱門/非熱門文章的「平均留言人數」與「平均按讚人數」\n",
    "from statistics import mean\n",
    "\n",
    "re = requests.get('https://www.dcard.tw/_api/forums/pet/posts?popular=false')\n",
    "fdata=json.loads(re.text)\n",
    "print(\"熱門文章 平均留言人數:\", mean([d['commentCount'] for d in data]))\n",
    "print(\"熱門文章 平均按讚人數:\", mean([d['likeCount'] for d in data]))\n",
    "print(\"非熱門文章 平均留言人數:\", mean(f['commentCount'] for f in fdata))\n",
    "print(\"非熱門文章 平均按讚人數:\", mean(f['likeCount'] for f in fdata))"
   ]
  },
  {
   "cell_type": "code",
   "execution_count": null,
   "metadata": {},
   "outputs": [],
   "source": []
  },
  {
   "cell_type": "code",
   "execution_count": null,
   "metadata": {},
   "outputs": [],
   "source": []
  }
 ],
 "metadata": {
  "kernelspec": {
   "display_name": "Python 3",
   "language": "python",
   "name": "python3"
  },
  "language_info": {
   "codemirror_mode": {
    "name": "ipython",
    "version": 3
   },
   "file_extension": ".py",
   "mimetype": "text/x-python",
   "name": "python",
   "nbconvert_exporter": "python",
   "pygments_lexer": "ipython3",
   "version": "3.7.4"
  }
 },
 "nbformat": 4,
 "nbformat_minor": 2
}
